{
 "cells": [
  {
   "attachments": {},
   "cell_type": "markdown",
   "metadata": {},
   "source": [
    "# Exercise 15\n",
    "\n",
    "Related Notes:\n",
    "- Chapter_09_Object_Oriented_Programming\n",
    "- Exercise 14\n",
    "\n",
    "[![Open In Colab](https://colab.research.google.com/assets/colab-badge.svg)](https://colab.research.google.com/github/njc-cz2-2021/Materials/blob/main/Exercises/Exercise-15-Object-Oriented-Programming-part-Deux.ipynb) \n",
    "\n",
    "For Exercises 15.1, refer back to the `Complex` class you defined in Exercise 14. "
   ]
  },
  {
   "cell_type": "markdown",
   "metadata": {},
   "source": [
    "## Exercise 15.1 2019/NJC/Tutorial 11: Complex Number(TBL)/A1\n",
    "\n",
    "Simplify the following complex numbers in the Cartesian form, $x + iy$:\n",
    "\n",
    "1. $\\left(3-8i\\right)\\left(5+7i\\right)$\n",
    "\n",
    "2. $\\frac{7+5i}{4-3i}$\n",
    "\n",
    "### Ans: \n",
    "\n",
    "1.$71-19i$\n",
    "\n",
    "2.$\\frac{13}{25}+\\frac{41}{25}i$ "
   ]
  },
  {
   "attachments": {},
   "cell_type": "markdown",
   "metadata": {},
   "source": [
    "#### Answer"
   ]
  },
  {
   "cell_type": "code",
   "execution_count": null,
   "metadata": {},
   "outputs": [],
   "source": [
    "#YOUR_CODE_HERE"
   ]
  },
  {
   "cell_type": "markdown",
   "metadata": {},
   "source": [
    "## Exercise 15.2 2019/NJC/Tutorial 11: Complex Number(TBL)/B1 (Modified)\n",
    "\n",
    "Find the modulus and argument of the following complex numbers. \n",
    "\n",
    "1. $-2i$\n",
    "2. $-1-i$\n",
    "3. $-1+\\sqrt{3}i$ \n",
    "4. $(-1-i)(-1+\\sqrt{3}i)$\n",
    "5. $\\frac{-1+\\sqrt{3}i}{-1-i}$\n",
    "6. $-100$\n",
    "\n",
    "### Ans: \n",
    "\n",
    "1. $2,-\\frac{\\pi}{2}$\n",
    "2. $\\sqrt{2},-\\frac{3\\pi}{4}$ \n",
    "3. $2,\\frac{2\\pi}{3}$\n",
    "4. $2\\sqrt{2},-\\frac{\\pi}{12}$\n",
    "5. $\\sqrt{2},-\\frac{7\\pi}{12}$\n",
    "6. $100,\\pi$"
   ]
  },
  {
   "attachments": {},
   "cell_type": "markdown",
   "metadata": {},
   "source": [
    "#### Answer"
   ]
  },
  {
   "cell_type": "code",
   "execution_count": null,
   "metadata": {},
   "outputs": [],
   "source": [
    "#YOUR_CODE_HERE"
   ]
  },
  {
   "cell_type": "markdown",
   "metadata": {},
   "source": [
    "## Exercise 15.3\n",
    "\n",
    "The modulus and argument of a complex number gives us another way to understand complex number. Recall that if $z=x+iy$, from the diagram below, we have $|z|=r$ and $\\text{arg}=\\varphi$.\n",
    "\n",
    "<center>\n",
    "<img src=\"img/220px-Complex_number_illustration_modarg.svg.png\" width=\"250\" align=\"center\"/>\n",
    "</center>\n",
    "\n",
    "What this means is that instead of locating a point in a 2D plane by comparing it via the displacement in the horizontal and vertical axes ($xy$-coordinates), we can describe the same point by referring to how far it is from the origin ($r$) and how much angle does it make with a reference axis ($\\text{arg}$). \n",
    "\n",
    "In particular, from basic trigonometry, that $$x=r\\cos\\varphi, y=(r\\sin \\varphi).$$ Consequently, the same complex number $z$ can be represented as  $z=r\\cos \\varphi +i (r\\sin \\varphi)$.\n",
    "\n",
    "The following code plots a quadrilateral where the points are stored in the list `coord`."
   ]
  },
  {
   "cell_type": "code",
   "execution_count": null,
   "metadata": {},
   "outputs": [],
   "source": [
    "import matplotlib.pyplot as plt\n",
    "\n",
    "coord = [[-1,0], [2,-1], [4,5], [0,3]]\n",
    "coord.append(coord[0]) #repeat the first point to create a 'closed loop'\n",
    "\n",
    "xs, ys = zip(*coord) #create lists of x and y values\n",
    "\n",
    "ax = plt.gca()  # gca stands for 'get current axis'\n",
    "ax.spines['right'].set_color('none')\n",
    "ax.spines['top'].set_color('none')\n",
    "ax.xaxis.set_ticks_position('bottom')\n",
    "ax.spines['bottom'].set_position(('data',0))\n",
    "ax.yaxis.set_ticks_position('left')\n",
    "ax.spines['left'].set_position(('data',0))\n",
    "\n",
    "plt.plot(xs,ys) \n",
    "plt.show() # if you need..."
   ]
  },
  {
   "cell_type": "markdown",
   "metadata": {},
   "source": [
    "For each of the following complex number $w$, \n",
    "\n",
    "- $\\frac{\\sqrt{2}}{2}+i\\frac{\\sqrt{2}}{2}$\n",
    "- $-1+\\sqrt{3}i$\n",
    "- $-1.5$\n",
    "\n",
    "do the following;\n",
    "\n",
    "1. For each point in `coord`, \n",
    "    - convert it to a `Complex` object and multiply it with the complex number $w$,\n",
    "    - convert the product back into a list that represent a point\n",
    "    - append these points into the list `coord_transformed`\n",
    "2. Plot the 2 quadrilaterals, one with points in `coord` and the other with points in `coord_transformed` on the same diagram.\n",
    "\n",
    "What do you observe about the difference between quadrilaterals obtained from `coord` and `coord_transformed`?"
   ]
  },
  {
   "attachments": {},
   "cell_type": "markdown",
   "metadata": {},
   "source": [
    "#### Answer"
   ]
  },
  {
   "cell_type": "code",
   "execution_count": null,
   "metadata": {},
   "outputs": [],
   "source": [
    "#YOUR_ANSWER_HERE"
   ]
  },
  {
   "attachments": {},
   "cell_type": "markdown",
   "metadata": {},
   "source": [
    "## Exercise 15.4\n",
    "\n",
    "In mathematics, a $2\\times n$ **matrix** over $\\mathbb{R}$ is a two-dimensional array whose entries are elements of $\\mathbb{R}$ with 2 rows and $n$ columns. Here is an example of $2\\times 2$ matrix: $$\\left(\\begin{array}{cc}\n",
    "1 & 3\\\\\n",
    "-10 & 30.5\n",
    "\\end{array}\\right)$$\n",
    "\n",
    "A program is to be written to implement basic matrix operations.\n",
    "\n",
    "In Python, we can use a nested list to write a matrix, e.g. the matrix above can be represented as `[[1,3],[-10,30.5]]`.\n",
    "\n",
    "A matrix is customarily denoted with a capital letter and the entry in the $i$ th row and $j$ th column in a matrix is denoted with the lowercase letter of the alphabet used for the matrix followed with the subscript $ij$, e.g if $M=\\left(\\begin{array}{cc}\n",
    "1 & 3\\\\\n",
    "-10 & 30.5\n",
    "\\end{array}\\right)$, then the entry at 1st row and 2nd column is $m_{12}=3$.\n",
    "\n",
    "Let $A$ and $B$ be matrices of the same dimensions, i.e. same number of rows and same number of columns, we define the *addition* $A+B=C$ as a matrix with the same number of rows and columns as $A$ and $B$ where for every entry in $C$, $c_{ij}=a_{ij}+b_{ij}$, e.g. $$\\left(\\begin{array}{ccc}\n",
    "1 & 3 & 5\\\\\n",
    "2 & 3 & 2\n",
    "\\end{array}\\right)+\\left(\\begin{array}{ccc}\n",
    "1 & 1 & 3\\\\\n",
    "4 & 0 & 0\n",
    "\\end{array}\\right)=\\left(\\begin{array}{ccc}\n",
    "2 & 4 & 8\\\\\n",
    "6 & 3 & 2\n",
    "\\end{array}\\right).$$\n",
    "\n",
    "Let $A$ and $B$ be $2\\times 2$ and $2\\times n$ matrices respectively,  we define the *product* $A*B=C$ as a $2\\times n$ matrix such that for every $i,j$ th entry in $C$, $c_{ij}=a_{i1}b_{1j}+a_{i2}b_{2j}$.\n",
    "\n",
    "Let $A=\\left(\\begin{array}{cc}\n",
    "a_{11} & a_{12}\\\\\n",
    "a_{21} & a_{22}\n",
    "\\end{array}\\right)$ be a $2\\times 2$ matrix, the *determinant* of $A$, denoted as $|A|$ is the value $a_{11}a_{22}-a_{12}a_{21}$ and if $|A|\\neq 0$, the **inverse** of $A$, denoted as $A^{-1}$ is defined to be $$A^{-1}=\\left(\\begin{array}{cc}\n",
    "\\frac{a_{22}}{\\left|A\\right|} & \\frac{-a_{12}}{\\left|A\\right|}\\\\\n",
    "\\frac{-a_{21}}{\\left|A\\right|} & \\frac{a_{11}}{\\left|A\\right|}\n",
    "\\end{array}\\right).$$\n",
    "\n",
    "1. Implement the class `TwoByNMatrix` with the following design:\n",
    "\n",
    "\n",
    ">```\n",
    ">| TwoByNMatrix                |\n",
    ">|-----------------------------|\n",
    ">|  entry: ARRAY               |\n",
    ">|-----------------------------|\n",
    ">|  constructor(l : ARRAY)     |\n",
    ">|  __add__(m : TwoByNMatrix)  |\n",
    ">|  __mul__(m : TwoByNMatrix)  |\n",
    ">|  det(): FLOAT               |\n",
    ">|  inv(): TwoByNMatrix        |\n",
    ">|-----------------------------|\n",
    ">```\n",
    "\n",
    "Test your code with the following test cases:\n",
    "\n",
    "-  $\\left(\\begin{array}{ccc}\n",
    "1 & 3 & 5\\\\\n",
    "2 & 3 & 2\n",
    "\\end{array}\\right)+\\left(\\begin{array}{ccc}\n",
    "1 & 1 & 3\\\\\n",
    "4 & 0 & 0\n",
    "\\end{array}\\right)=\\left(\\begin{array}{ccc}\n",
    "2 & 4 & 8\\\\\n",
    "6 & 3 & 2\n",
    "\\end{array}\\right)$\n",
    "\n",
    "- $\\left(\\begin{array}{cc}\n",
    "1 & 3\\\\\n",
    "4 & 5\n",
    "\\end{array}\\right)\\left(\\begin{array}{ccc}\n",
    "1 & 1 & 1\\\\\n",
    "0 & 0 & 1\n",
    "\\end{array}\\right)=\\left(\\begin{array}{ccc}\n",
    "1 & 1 & 4\\\\\n",
    "4 & 4 & 9\n",
    "\\end{array}\\right)$\n",
    "\n",
    "- $\\left|\\left(\\begin{array}{cc}\n",
    "1 & 3\\\\\n",
    "4 & 5\n",
    "\\end{array}\\right)\\right|=-7$\n",
    "- $\\left(\\begin{array}{cc}\n",
    "1 & 3\\\\\n",
    "4 & 5\n",
    "\\end{array}\\right)^{-1}=-\\frac{1}{7}\\left(\\begin{array}{cc}\n",
    "5 & -3\\\\\n",
    "-4 & 1\n",
    "\\end{array}\\right)$"
   ]
  },
  {
   "attachments": {},
   "cell_type": "markdown",
   "metadata": {},
   "source": [
    "#### Answer"
   ]
  },
  {
   "cell_type": "code",
   "execution_count": null,
   "metadata": {},
   "outputs": [],
   "source": [
    "#YOUR_ANSWER_HERE"
   ]
  },
  {
   "cell_type": "markdown",
   "metadata": {},
   "source": [
    "2. If $\\left| A\\right|\\neq 0$, find $A*A^{-1}$ and $A^{-1}*A$. "
   ]
  },
  {
   "attachments": {},
   "cell_type": "markdown",
   "metadata": {},
   "source": [
    "#### Answer"
   ]
  },
  {
   "cell_type": "code",
   "execution_count": null,
   "metadata": {},
   "outputs": [],
   "source": [
    "#YOUR_ANSWER_HERE"
   ]
  },
  {
   "cell_type": "markdown",
   "metadata": {},
   "source": [
    "3. The use of matrices can also be employed in 2D computer graphics as a way to rotate images. \n",
    "\n",
    "Let $(x,y)$ be a point on a plane that we want to rotate counterclockwise by $\\theta$ radians about the origin. Then the new coordinates of the point is $(x',y')$ where $$\\begin{array}{ccc}\n",
    "x\\cos\\theta-y\\sin\\theta & = & x',\\\\\n",
    "x\\sin\\theta+y\\sin\\theta & = & y'.\n",
    "\\end{array}$$ \n",
    "\n",
    "The system of equation can be written in the matrix form, $$\\left(\\begin{array}{cc}\n",
    "\\cos\\theta & -\\sin\\theta\\\\\n",
    "\\sin\\theta & \\sin\\theta\n",
    "\\end{array}\\right)\\left(\\begin{array}{c}\n",
    "x\\\\\n",
    "y\n",
    "\\end{array}\\right)=\\left(\\begin{array}{c}\n",
    "x'\\\\\n",
    "y'\n",
    "\\end{array}\\right).$$\n",
    "\n",
    "In separate diagrams, for every angle $\\theta \\in \\left\\{-\\frac{\\pi}{2},-\\frac{3\\pi}{4},\\frac{2\\pi}{3},\\pi\\right\\}$:\n",
    "\n",
    "A. rotate every points in the set $\\left\\{ \\left(-1,0\\right),\\left(2,-1\\right),\\left(4,5\\right),\\left(0,3\\right)\\right\\}$, \n",
    "\n",
    "B. plot the original points and the rotated points in the same diagram."
   ]
  },
  {
   "attachments": {},
   "cell_type": "markdown",
   "metadata": {},
   "source": [
    "#### Answer"
   ]
  },
  {
   "cell_type": "code",
   "execution_count": null,
   "metadata": {},
   "outputs": [],
   "source": [
    "#YOUR_ANSWER_HERE"
   ]
  }
 ],
 "metadata": {
  "kernelspec": {
   "display_name": "Python 3",
   "language": "python",
   "name": "python3"
  },
  "language_info": {
   "codemirror_mode": {
    "name": "ipython",
    "version": 3
   },
   "file_extension": ".py",
   "mimetype": "text/x-python",
   "name": "python",
   "nbconvert_exporter": "python",
   "pygments_lexer": "ipython3",
   "version": "3.10.2"
  },
  "vscode": {
   "interpreter": {
    "hash": "a42ccb73e7d9bfdf27e036f1d2b8b681e55fc0743cc5586bc2474d4a60f4b886"
   }
  }
 },
 "nbformat": 4,
 "nbformat_minor": 2
}
