{
 "cells": [
  {
   "attachments": {},
   "cell_type": "markdown",
   "metadata": {},
   "source": [
    "# Exercise 2\n",
    "\n",
    "Related Notes:\n",
    "- Chapter_01_Data_Types\n",
    "- Chapter_02_Programming_Constructs\n",
    "\n",
    "[![Open In Colab](https://colab.research.google.com/assets/colab-badge.svg)](https://colab.research.google.com/github/njc-cz2-2021/Materials/blob/main/Exercises/Exercise-02-Programming_Constructs.ipynb)"
   ]
  },
  {
   "cell_type": "markdown",
   "metadata": {},
   "source": [
    "# Exercise 2.1 Unit Converter\n",
    " \n",
    "Write a program that helps the user to convert a given quantity from one unit of (distance, area or volume) measurement to another. \n",
    " \n",
    "The problem: \n",
    "-\tRequest a quantity from the user. \n",
    "-\tHave the user specify if the quantity is a `length`, `area` or `volume`. \n",
    "-\tHave the user select the base unit of measurement from the following list: \n",
    "    - `mm`, \n",
    "    - `cm`, \n",
    "    - `m`, or \n",
    "    - `km`. \n",
    "-\tThen have the user select the desired base unit of measurement that the given quantity should be converted to. \n",
    "-\tPrint out converted quantity (including the new unit of measurement). \n",
    " \n",
    "Example interaction: \n",
    "\n",
    ">``` text\n",
    ">Input a quantity: 10 \n",
    ">Select either length, area or volume: area \n",
    ">Select the base unit of measurement (mm, cm, m, km) : m \n",
    ">Select which base unit of measurement to convert to (mm, cm, m, km) : cm \n",
    ">10 m^2 = 100000 cm^2 \n",
    ">```"
   ]
  },
  {
   "cell_type": "code",
   "execution_count": null,
   "metadata": {},
   "outputs": [
    {
     "name": "stdout",
     "output_type": "stream",
     "text": [
      "100000.0\n"
     ]
    }
   ],
   "source": [
    "quantity = int(input(\"Input a quantity: \"))\n",
    "type = input(\"Select either length, area or volume: \")\n",
    "baseUnit = input(\"Select the base unit of measurement (mm, cm, m, km) : \")\n",
    "answerUnit = input(\"Select which base unit of measurement to convert to (mm, cm, m, km) : \")\n",
    "\n",
    "unitCheck = {\"m\": 100, \"cm\":1, \"mm\": 0.1, \"km\": 1000}\n",
    "\n",
    "if type == \"length\":\n",
    "    print(quantity * unitCheck[baseUnit] / unitCheck[answerUnit])\n",
    "elif type == \"area\":\n",
    "    print(quantity * unitCheck[baseUnit]**2 / unitCheck[answerUnit]**2)\n",
    "elif type == \"volume\":\n",
    "    print(quantity * unitCheck[baseUnit]**3 / unitCheck[answerUnit]**3)"
   ]
  },
  {
   "cell_type": "markdown",
   "metadata": {},
   "source": [
    "# Exercise 2.2\n",
    "\n",
    "In mathematics, an **arithmetic sequence** is a sequence of real numbers \n",
    "$$u_1,u_2,\\cdots, u_n$$\n",
    "such that the difference between two consecutive terms is constant, i.e. $u_{n+1}-u_n=d$ for some constant $d\\in \\mathbb{R}$, called the **common difference** and $n\\geq 1$.\n",
    "\n",
    "For example, the sequence $2,5,8,11,14,\\dots$ is an arithmetic sequence with first term $2$ and common difference $3$.\n",
    "\n",
    "Write a program to generate the first $n$ terms of an arithmetic sequence with a user defined first term $a$ and common difference $d$.\n",
    "\n",
    "The problem: \n",
    "- Request a numeric input from the user to be used as the first term.  Let us denote this input as `first_term`.\n",
    "- Request a numeric input from the user to be used as the common difference.  Let us denote this input as `common_difference`.\n",
    "- Request an integer input from the user for the number of terms.  Let us denote this input as `number_of_terms`.\n",
    "- Print out the sequence up to the $n$th term.\n",
    "\n",
    "Example interaction: \n",
    "\n",
    ">```text\n",
    ">Please input the first term in the arithmetic sequence:\n",
    ">2\n",
    ">Please input the common difference:\n",
    ">3\n",
    ">Please input the number of terms:\n",
    ">5\n",
    ">The first 5 terms of the arithmetic sequence are:\n",
    ">2\n",
    ">5\n",
    ">8\n",
    ">11\n",
    ">14\n",
    ">```"
   ]
  },
  {
   "cell_type": "code",
   "execution_count": 5,
   "metadata": {},
   "outputs": [
    {
     "ename": "ValueError",
     "evalue": "could not convert string to float: ''",
     "output_type": "error",
     "traceback": [
      "\u001b[0;31m---------------------------------------------------------------------------\u001b[0m",
      "\u001b[0;31mValueError\u001b[0m                                Traceback (most recent call last)",
      "Cell \u001b[0;32mIn[5], line 1\u001b[0m\n\u001b[0;32m----> 1\u001b[0m first_term \u001b[38;5;241m=\u001b[39m \u001b[38;5;28;43mfloat\u001b[39;49m\u001b[43m(\u001b[49m\u001b[38;5;28;43minput\u001b[39;49m\u001b[43m(\u001b[49m\u001b[38;5;124;43m\"\u001b[39;49m\u001b[38;5;124;43mPlease input the first term in the arithmetic sequence: \u001b[39;49m\u001b[38;5;124;43m\"\u001b[39;49m\u001b[43m)\u001b[49m\u001b[43m)\u001b[49m\n\u001b[1;32m      2\u001b[0m common_difference \u001b[38;5;241m=\u001b[39m \u001b[38;5;28mfloat\u001b[39m(\u001b[38;5;28minput\u001b[39m(\u001b[38;5;124m\"\u001b[39m\u001b[38;5;124mPlease input the common difference: \u001b[39m\u001b[38;5;124m\"\u001b[39m))\n\u001b[1;32m      3\u001b[0m number \u001b[38;5;241m=\u001b[39m \u001b[38;5;28mint\u001b[39m(\u001b[38;5;28minput\u001b[39m(\u001b[38;5;124m\"\u001b[39m\u001b[38;5;124mPlease input the number of terms: \u001b[39m\u001b[38;5;124m\"\u001b[39m))\n",
      "\u001b[0;31mValueError\u001b[0m: could not convert string to float: ''"
     ]
    }
   ],
   "source": [
    "first_term = float(input(\"Please input the first term in the arithmetic sequence: \"))\n",
    "common_difference = float(input(\"Please input the common difference: \"))\n",
    "number = int(input(\"Please input the number of terms: \"))\n",
    "\n",
    "n = 1\n",
    "print(\"The first \", number, \" terms of the arithmetic sequence are: \")\n",
    "while n <= number:\n",
    "    nth_term = first_term+(n-1)*common_difference\n",
    "    print(nth_term)\n",
    "    n+=1"
   ]
  },
  {
   "cell_type": "markdown",
   "metadata": {},
   "source": [
    "# Exercise 2.3\n",
    "\n",
    "Given an arithmetic sequence with first term $a$ and common difference $d$.\n",
    "\n",
    "Write a program that:\n",
    "- Request a numeric input from the user to be used as the first term.  Let us denote this input as `first_term`.\n",
    "- Request a numeric input from the user to be used as the common difference.  Let us denote this input as `common_difference`.\n",
    "- Request an integer input from the user for the index for the term in the sequence.  Let us denote this input as `n`.\n",
    "- Print out the $n$th term in the sequence.\n",
    "- Print out the sum of the first $n$ terms in the sequence.\n",
    "\n",
    "Example interaction: \n",
    "\n",
    ">```text\n",
    ">Please input the first term in the arithmetic sequence:\n",
    ">2\n",
    ">Please input the common difference:\n",
    ">3\n",
    ">Please input the index :\n",
    ">5\n",
    ">The 5th term in the sequence is:\n",
    ">14\n",
    ">The sum of the first 5 terms in the sequence is:\n",
    ">40\n",
    ">```"
   ]
  },
  {
   "cell_type": "code",
   "execution_count": null,
   "metadata": {},
   "outputs": [
    {
     "name": "stdout",
     "output_type": "stream",
     "text": [
      "The  5 th term in the sequences is:  \n",
      " 14\n",
      "The sum of the first  5  terms in the sequence is:  \n",
      " 40.0\n"
     ]
    }
   ],
   "source": [
    "first_term = float(input(\"Please input the first term in the arithmetic sequence: \"))\n",
    "common_difference = float(input(\"Please input the common difference: \"))\n",
    "n = int(input(\"Please input the index \"))\n",
    "nth_term = first_term+(n-1)*common_difference\n",
    "print(\"The \", n, \"th term in the sequences is: \", \"\\n\", nth_term)\n",
    "print(\"The sum of the first \", n, \" terms in the sequence is: \", \"\\n\", (n/2)*(first_term + nth_term))"
   ]
  },
  {
   "cell_type": "markdown",
   "metadata": {},
   "source": [
    "# Exercise 2.4\n",
    "\n",
    "An arithmetic sequence $u_1, u_2, u_3, \\cdots$ is defined by $u_r=3r-1$ for $r\\in \\mathbb{Z}^{+}$. Find the least value of $n$ such that $u_3+u_6+u_9+\\cdots+u_n$ exceeds $1700$, where $n$ is a multiple of 3. "
   ]
  },
  {
   "cell_type": "code",
   "execution_count": 2,
   "metadata": {},
   "outputs": [
    {
     "name": "stdout",
     "output_type": "stream",
     "text": [
      "60\n"
     ]
    }
   ],
   "source": [
    "n = 3\n",
    "while True:\n",
    "    n_result = 3 * n - 1\n",
    "    numbers = []\n",
    "    sum_result = 0\n",
    "    \n",
    "    while sum_result <= 1700:\n",
    "        numbers.append(n_result)\n",
    "        sum_result = sum(numbers) \n",
    "        n += 3\n",
    "        n_result = 3 * n - 1  \n",
    "\n",
    "    print(n-3)\n",
    "    break \n"
   ]
  },
  {
   "cell_type": "markdown",
   "metadata": {},
   "source": [
    "# Exercise 2.5 2012/GCE A-Level/P2/Q4(i) H2 Mathematics\n",
    "\n",
    "On 1 January 2001 Mrs $A$ put \\$100 into a bank account, and on the first day of each subsequent month she put in \\$10 more than in the previous month. Thus on 1 February she put \\$110 into the account and on 1 March she put \\$120 into the account, and so on. The account pays no interest.\n",
    "\n",
    "On what date did the value of Mrs $A$'s account first become greater than $5000?"
   ]
  },
  {
   "cell_type": "code",
   "execution_count": 11,
   "metadata": {},
   "outputs": [
    {
     "name": "stdout",
     "output_type": "stream",
     "text": [
      "01/ 12 / 2002\n"
     ]
    }
   ],
   "source": [
    "n = 1\n",
    "money_sum = 0 \n",
    "while True:\n",
    "    money_input = 100 + 10*n\n",
    "    if money_sum > 5000:\n",
    "        years = (n-1) // 12\n",
    "        months = (n-1) % 12\n",
    "        print(\"01/\",months+1,\"/\",2001+years)\n",
    "        break\n",
    "    else: \n",
    "        money_sum+=money_input\n",
    "        n+=1"
   ]
  },
  {
   "cell_type": "markdown",
   "metadata": {},
   "source": [
    "## Exercise 2.6 Power\n",
    " \n",
    "Write a program that prints out the first $m$ numbers that can be written as a positive integer taken to the power $n$. \n",
    "\n",
    "Example interaction: \n",
    "\n",
    ">``` text\n",
    ">Input the number of terms, m: 5 \n",
    ">Input the n-th power: 3 \n",
    ">1\n",
    ">8\n",
    ">27\n",
    ">64\n",
    ">125\n",
    ">```"
   ]
  },
  {
   "cell_type": "code",
   "execution_count": 19,
   "metadata": {},
   "outputs": [
    {
     "name": "stdout",
     "output_type": "stream",
     "text": [
      "1\n",
      "8\n",
      "27\n",
      "64\n",
      "125\n"
     ]
    }
   ],
   "source": [
    "terms = int(input(\"Input the number of terms, m: \"))\n",
    "n = int(input(\"Input the n-th power: \"))\n",
    "a = 1\n",
    "while a <= terms:\n",
    "    print(a**n)\n",
    "    a+=1"
   ]
  },
  {
   "cell_type": "markdown",
   "metadata": {},
   "source": [
    "## Exercise 2.7 Guess The Secret Number\n",
    " \n",
    "Write a program that stores a secret integer in a variable. The user has to guess the secret integer, the program should loop until they get it right.\n",
    "\n",
    "The problem: \n",
    "-   Decide on a secret integer between 1 and 100 inclusive yourself.\n",
    "-\tRequest an integer from the user. \n",
    "-\tif the user inputted a value that is too high, print 'Your number is too high. Try again.' and the program loops\n",
    "-   if the user inputted a value that is too low, print 'Your number is too low. Try again.' and the program loops\n",
    "-   if the user inputted a value that is the same as the secret integer, print 'Congratulations. You guessed correctly.' and the program ends.\n",
    "\n",
    "Example interaction: \n",
    "\n",
    ">``` text\n",
    ">#Secret number is 31\n",
    ">Input a quantity: 37 \n",
    ">Your number is too high. Try again. \n",
    ">Input a quantity: 25 \n",
    ">Your number is too low. Try again.\n",
    ">Input a quantity: 31 \n",
    ">Congratulations. You guessed correctly.\n",
    ">```"
   ]
  },
  {
   "cell_type": "code",
   "execution_count": 1,
   "metadata": {},
   "outputs": [
    {
     "name": "stdout",
     "output_type": "stream",
     "text": [
      "Your number is too high. Try again.\n",
      "Your number is too low. Try again. \n",
      "Congratulations. You guessed correctly.\n"
     ]
    }
   ],
   "source": [
    "secret_integer = 69\n",
    "\n",
    "while True: \n",
    "    guess = int(input(\"Input a quantity: \"))\n",
    "    if guess < secret_integer: \n",
    "        print(\"Your number is too low. Try again. \")\n",
    "    elif guess > secret_integer: \n",
    "        print(\"Your number is too high. Try again.\")\n",
    "    else: \n",
    "        print(\"Congratulations. You guessed correctly.\")\n",
    "        break"
   ]
  },
  {
   "cell_type": "markdown",
   "metadata": {},
   "source": [
    "## Exercise 2.8\n",
    "\n",
    "In mathematics, a **geometric sequence** is a sequence of real numbers \n",
    "$$u_1,u_2,\\cdots, u_n$$\n",
    "such that the ratio between two consecutive terms is constant, i.e. $\\frac{u_{n+1}}{u_n}=r$ for some constant $r\\in \\mathbb{R}\\backslash \\{0,1\\}$, called the **common ratio** and $n\\geq 1$.\n",
    "\n",
    "For example, the sequence $2,6,18,54,162,\\dots$ is an geometric sequence with first term $2$ and common ratio $3$.\n",
    "\n",
    "Write a program to generate the first $n$ terms of an geometric sequence with a user defined first term $a$ and common ratio $r$.\n",
    "\n",
    "The problem: \n",
    "- Request a numeric input from the user to be used as the first term.  Let us denote this input as `first_term`.\n",
    "- Request a numeric input from the user to be used as the common difference.  Let us denote this input as `common_ratio`.\n",
    "- Request an integer input from the user for the number of terms.  Let us denote this input as `number_of_terms`.\n",
    "- Print out the sequence up to the $n$th term.\n",
    "\n",
    "Example interaction: \n",
    "\n",
    ">```text\n",
    ">Please input the first term in the geometric sequence:\n",
    ">2\n",
    ">Please input the common ratio:\n",
    ">3\n",
    ">Please input the number of terms:\n",
    ">5\n",
    ">The first 5 terms of the geometric sequence are:\n",
    ">2\n",
    ">6\n",
    ">18\n",
    ">54\n",
    ">162\n",
    ">```"
   ]
  },
  {
   "cell_type": "code",
   "execution_count": 4,
   "metadata": {},
   "outputs": [
    {
     "name": "stdout",
     "output_type": "stream",
     "text": [
      "The first  5  terms of the geometric sequence are: \n",
      "2\n",
      "6\n",
      "18\n",
      "54\n",
      "162\n"
     ]
    }
   ],
   "source": [
    "first_term = int(input(\"Please input the first term in the geometric sequence: \"))\n",
    "common_ratio = int(input(\"Please input the common ratio: \"))\n",
    "number_of_terms = int(input(\"Please input the number of terms: \"))\n",
    "print(\"The first \", number_of_terms, \" terms of the geometric sequence are: \")\n",
    "n=1\n",
    "while n <= number_of_terms:\n",
    "    print(first_term*(common_ratio**(n-1))) \n",
    "    n+=1"
   ]
  },
  {
   "cell_type": "markdown",
   "metadata": {},
   "source": [
    "## Exercise 2.9\n",
    "\n",
    "Given a geometric sequence with first term $a$ and common ratio $r$.\n",
    "\n",
    "Write a program that:\n",
    "- Request a numeric input from the user to be used as the first term.  Let us denote this input as `first_term`.\n",
    "- Request a numeric input from the user to be used as the common difference.  Let us denote this input as `common_ratio`.\n",
    "- Request an integer input from the user for the index for the term in the sequence.  Let us denote this input as `n`.\n",
    "- Print out the $n$th term in the sequence.\n",
    "- Print out the sum of the first $n$ terms in the sequence.\n",
    "\n",
    "Example interaction: \n",
    "\n",
    ">```text\n",
    ">Please input the first term in the geometric sequence:\n",
    ">2\n",
    ">Please input the common ratio:\n",
    ">3\n",
    ">Please input the index :\n",
    ">5\n",
    ">The 5th term in the sequence is:\n",
    ">162\n",
    ">The sum of the first 5 terms in the sequence is:\n",
    ">242\n",
    ">```"
   ]
  },
  {
   "cell_type": "code",
   "execution_count": null,
   "metadata": {},
   "outputs": [
    {
     "name": "stdout",
     "output_type": "stream",
     "text": [
      "The first  5  terms in the sequence is:  162\n",
      "The sum of the first  5  terms in the sequence is:  242.0\n"
     ]
    }
   ],
   "source": [
    "first_term = int(input(\"Please input the first term in the geometric sequence: \"))\n",
    "common_ratio = int(input(\"Please input the common ratio: \"))\n",
    "n = int(input(\"Please input the index: \"))\n",
    "print(\"The first \", n, \" terms in the sequence is: \", first_term*(common_ratio**(n-1)))\n",
    "print(\"The sum of the first \", n, \" terms in the sequence is: \", first_term*((1-common_ratio**n)/(1-common_ratio)))"
   ]
  },
  {
   "cell_type": "markdown",
   "metadata": {},
   "source": [
    "## Exercise 2.10\n",
    "\n",
    "Given a geometric sequence with first term $1$ and common ratio $r$. Find the sum of the first 100 terms of the sequence if:\n",
    "- $r=2$ \n",
    "- $r=\\frac{1}{2}$ \n",
    "- $r=-3$ \n",
    "- $r=-\\frac{5}{6}$ \n",
    "- $r=4.1$\n",
    "- $r=0.7$\n",
    "\n",
    "What can you conclude about the relationship between the common ratio of the geometric sequence with the sum of the first $n$ terms of the geometric sequence as $n$ grows larger and larger? i.e., as $n\\rightarrow \\infty$. You might want to try with more values of $r$."
   ]
  },
  {
   "cell_type": "code",
   "execution_count": 4,
   "metadata": {},
   "outputs": [
    {
     "name": "stdout",
     "output_type": "stream",
     "text": [
      "1.2676506002282294e+30\n",
      "1.0715086071862673e+301\n"
     ]
    }
   ],
   "source": [
    "\n",
    "def test(first_term, common_ratio, n):\n",
    "    return first_term*((1-common_ratio**n)/(1-common_ratio))\n",
    "\n",
    "print(test(1,2, 100))\n",
    "print(test(1,2,1000))\n",
    "\n",
    "\n",
    "#Sum to infinity = first term/(1 - r)"
   ]
  },
  {
   "cell_type": "markdown",
   "metadata": {},
   "source": [
    "## Exercise 2.11 2019/NJC Tutorial/APGP/QB8 H2 Mathematics (Modified)\n",
    "\n",
    "An athlete is considering two plans for a training program.\n",
    "\n",
    "Plan I: Run 2000 m on day 1, 2400 m on day 2, and on each successive day increase the distance run by 400 m.\n",
    "\n",
    "Plan II: Run 2000 m on day 1, 2200 m on day 2, and on each successive day multiply the distance run by a constant factor $\\frac{11}{10}$.\n",
    "\n",
    "- **(a)** For Plan I, find the least value of $n$ for which the total distance run on days 1 to $n$, inclusive, exceeds 200 000 m.\n",
    "\n",
    "- **(b)** For Plan II, find the least value of N for which the distance run on day $N$ exceeds 16 000.\n",
    "\n",
    "- **(c)** Assume that athlete $A$ decided to go with Plan I and another athlete $B$ decided to with Plan II, when will athlete $B$'s total distance run first exceeds athlete $A$'s total distance run? "
   ]
  },
  {
   "cell_type": "code",
   "execution_count": 2,
   "metadata": {},
   "outputs": [
    {
     "name": "stdout",
     "output_type": "stream",
     "text": [
      "28\n",
      "7\n",
      "3\n"
     ]
    }
   ],
   "source": [
    "#(A)\n",
    "n = 1\n",
    "while True:\n",
    "    n_result = 2000 + (n-1)*400\n",
    "    n_sum = (n / 2) * (2000 + n_result)\n",
    "    \n",
    "    if n_sum >= 200000:\n",
    "        print(n)\n",
    "        break\n",
    "    else: \n",
    "        n += 1\n",
    "\n",
    "#(B)\n",
    "\n",
    "k = 0\n",
    "while True:\n",
    "    k_result = 2000*(1.1**(k-1))\n",
    "    k_sum = 2000*((1-1.1**k)/(1-1.1))\n",
    "    if k_sum >= 16000:\n",
    "        print(k)\n",
    "        break\n",
    "    else: \n",
    "        k += 1\n",
    "\n",
    "#(C)\n",
    "\n",
    "q=0\n",
    "while True: \n",
    "    a_sum = 2000 + (q-1)*400\n",
    "    b_sum = 2000*((1.1-1.1**q)/(1-1.1))\n",
    "    if b_sum>a_sum:\n",
    "        print(q)\n",
    "        break\n",
    "    else: \n",
    "        q+=1\n",
    "        \n"
   ]
  }
 ],
 "metadata": {
  "kernelspec": {
   "display_name": "Python 3",
   "language": "python",
   "name": "python3"
  },
  "language_info": {
   "codemirror_mode": {
    "name": "ipython",
    "version": 3
   },
   "file_extension": ".py",
   "mimetype": "text/x-python",
   "name": "python",
   "nbconvert_exporter": "python",
   "pygments_lexer": "ipython3",
   "version": "3.12.1"
  },
  "orig_nbformat": 2,
  "vscode": {
   "interpreter": {
    "hash": "a42ccb73e7d9bfdf27e036f1d2b8b681e55fc0743cc5586bc2474d4a60f4b886"
   }
  }
 },
 "nbformat": 4,
 "nbformat_minor": 2
}
