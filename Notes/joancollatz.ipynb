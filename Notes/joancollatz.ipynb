{
 "cells": [
  {
   "cell_type": "markdown",
   "id": "ac70e50b",
   "metadata": {},
   "source": [
    "Collatz Conjecture \n",
    "Joan"
   ]
  },
  {
   "cell_type": "code",
   "execution_count": 6,
   "id": "0efda764",
   "metadata": {},
   "outputs": [
    {
     "name": "stdout",
     "output_type": "stream",
     "text": [
      "7\n",
      "7\n"
     ]
    }
   ],
   "source": [
    "#globalization bang\n",
    "count = 0 \n",
    "def collatz(n):\n",
    "    global count\n",
    "    if n == 1:\n",
    "        print(count)\n",
    "    elif n % 2 == 0:\n",
    "        count +=1\n",
    "        collatz(n/2)\n",
    "    else:\n",
    "        count +=1\n",
    "        collatz(3*n + 1)\n",
    "\n",
    "collatz(3)\n",
    "\n",
    "#pake lokal bang\n",
    "#oke bang\n",
    "def collatz_loc(n,itung=0):\n",
    "    if n == 1:\n",
    "        print(itung)\n",
    "    elif n%2 ==0:\n",
    "        collatz_loc(n/2, itung+1)\n",
    "    else:\n",
    "        collatz_loc(3*n+1,itung+1)\n",
    "\n",
    "collatz_loc(3)"
   ]
  }
 ],
 "metadata": {
  "kernelspec": {
   "display_name": "Python 3",
   "language": "python",
   "name": "python3"
  },
  "language_info": {
   "codemirror_mode": {
    "name": "ipython",
    "version": 3
   },
   "file_extension": ".py",
   "mimetype": "text/x-python",
   "name": "python",
   "nbconvert_exporter": "python",
   "pygments_lexer": "ipython3",
   "version": "3.12.1"
  }
 },
 "nbformat": 4,
 "nbformat_minor": 5
}
