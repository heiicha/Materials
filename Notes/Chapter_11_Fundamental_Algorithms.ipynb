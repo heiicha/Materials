{
 "cells": [
  {
   "cell_type": "markdown",
   "metadata": {},
   "source": [
    "# Learning Objectives\n",
    "\n",
    "- [ ] 1.2.1 Implement sort algorithms.\n",
    "    - Insertion sort\n",
    "    - Bubble sort\n",
    "    - Quicksort\n",
    "    - Merge sort\n",
    "- [ ] 1.2.2 Use examples to explain sort algorithms.\n",
    "- [ ] 1.2.3 Implement search algorithms.\n",
    "    - Linear search\n",
    "    - Binary search\n",
    "    - Hash table search (after Abstract Data Type)\n",
    "- [ ] 1.2.4 Use Examples to explain search algorithms.\n",
    "- [ ] 1.2.5 Compare and describe the efficiencies of the sort and search algorithms using Big-$O$ notation for time complexity (worst case). Exclude: space complexity\n",
    "- [ ] 2.3.1 Implement sort programs.\n",
    "    - Insertion sort\n",
    "    - Bubble sort\n",
    "    - Quicksort\n",
    "    - Merge sort\n",
    "- [ ] 2.3.2 Implement search programs.\n",
    "    - Linear search\n",
    "    - Binary search\n",
    "    - Hash table search (after Abstract Data Type)\n",
    "\n",
    "# References\n",
    "\n",
    "1. Leadbetter, C., Blackford, R., & Piper, T. (2012). Cambridge international AS and A level computing coursebook. Cambridge: Cambridge University Press.\n",
    "2. https://www.sparknotes.com/cs/sorting/bubble/section1/#:~:text=The%20total%20number%20of%20comparisons,since%20no%20swaps%20were%20made.\n",
    "3. https://visualgo.net/en"
   ]
  },
  {
   "cell_type": "markdown",
   "metadata": {},
   "source": [
    "# 10.1 Search Algorithm\n",
    "\n",
    "A search algorithm is an algorithm to retrieve information from some data structure. Some examples include:\n",
    "- Finding the maximum or minimum value in a list or array\n",
    "- Checking to see if a given value is present in a set of values\n",
    "- Retrieving a record from a database"
   ]
  },
  {
   "cell_type": "markdown",
   "metadata": {},
   "source": [
    "## 10.1.1 Linear Search\n",
    "\n",
    "A **linear search**, also called **serial** or **sequential** searches an item in a given array sequentially till the end of the collection. It does not require the data to be in any particular order. \n",
    "\n",
    "To find the position of a particular value involves looking at each value in turn – starting with the first – and comparing it with the value you are looking for. When the value is found, you need to note its position. You must also be able to report the special case that a value has not been found. This last part only becomes apparent when the search has reached the final data item without finding the required value.\n",
    "\n",
    "### Example\n",
    "\n",
    "In this example, you have the array `[10,14,19,26,27,31,33,35,42,44]` and you are looking for the value `33` in the array.\n",
    "\n",
    "<center>\n",
    "<img src=\"images/algorithm_linear_search.gif\" width=\"400\" align=\"center\"/>\n",
    "</center>\n",
    "\n",
    "The pseudocode for linear search function is given below. It returns the index of the searched value in the array if it exists. In the case that the value is not in the array, the function returns `-1`."
   ]
  },
  {
   "cell_type": "code",
   "execution_count": null,
   "metadata": {},
   "outputs": [],
   "source": [
    "FUNCTION LINEARSEARCH(A: ARRAY of INTEGER, t: INTEGER) RETURNS INTEGER\n",
    "    DECLARE index: INTEGER\n",
    "\tindex ← -1\n",
    "\tFOR i = 1 TO A.SIZE\n",
    "\t\tIF A[i] = t THEN\n",
    "\t\t\tindex ← i\n",
    "\t\t\tBREAK\n",
    "\t\tENDIF\n",
    "\tENDFOR\n",
    "\tRETURN index\n",
    "ENDFUNCTION"
   ]
  },
  {
   "cell_type": "markdown",
   "metadata": {},
   "source": [
    "### Exercise\n",
    "\n",
    "Implement a function `linear_search(array, val)` which searches the list `array` for a value `val` using the linear search algorithm.\n",
    "\n",
    "Test your function with the following list\n",
    "> `\n",
    "[39, 96, 51, 20, 42, 42, 74, 28, 66, 16, 10, 86, 6, 43, 67, 98, 32, 73, 99, 7, 80, 88, 57, 83, 1, 64, 33, 38, 38, 8, 68, 38, 42, 80, 71, 82, 25, 29, 2, 85, 2, 96, 34, 14, 9, 65, 50, 63, 99, 94, 5, 93, 84, 46, 64, 22, 59, 31, 74, 13, 93, 13, 98, 93]`\n",
    "\n",
    "with the values `9` and `2`. What do you observe for the latter value?"
   ]
  },
  {
   "cell_type": "code",
   "execution_count": 6,
   "metadata": {},
   "outputs": [
    {
     "name": "stdout",
     "output_type": "stream",
     "text": [
      "44\n",
      "38\n"
     ]
    }
   ],
   "source": [
    "#YOUR_CODE_HERE\n",
    "def linear_search(array,val):\n",
    "    index = -1\n",
    "    for i in range(0,len(array)):\n",
    "        if array[i] == val:\n",
    "            index = i\n",
    "            break\n",
    "    return index\n",
    "\n",
    "array = [39, 96, 51, 20, 42, 42, 74, 28, 66, 16, 10, 86, 6, 43, 67, 98, 32, 73, 99, 7, 80, 88, 57, 83, 1, 64, 33, 38, 38, 8, 68, 38, 42, 80, 71, 82, 25, 29, 2, 85, 2, 96, 34, 14, 9, 65, 50, 63, 99, 94, 5, 93, 84, 46, 64, 22, 59, 31, 74, 13, 93, 13, 98, 93]\n",
    "\n",
    "print(linear_search(array,9))\n",
    "print(linear_search(array,2))"
   ]
  },
  {
   "cell_type": "markdown",
   "metadata": {},
   "source": [
    "In linear search, all items are searched one-by-one to find the required item.\n",
    "\n",
    "If the array has $n$ elements to be compared to,\n",
    "\n",
    "- The best-case lookup to find an item is $1$ comparison, i.e., the item is at the head of the array.\n",
    "- The worst-case lookup to find an item is $n$ comparisons, i.e. the item is at the end of the array.\n",
    "- The average lookup to find an item is approximately $\\frac{n}{2}$ comparisons. \n",
    "\n",
    "Clearly, if $n$ is large,  this can be a very large number of comparisons and the serial search algorithm can take a long time.\n",
    "\n",
    "Consequently, we have for serial search,\n",
    "- Advantage:\n",
    "    - algorithm is straightforward and easy to implement,\n",
    "    - data need not be in any particular order,\n",
    "    - works well if there is a small number of data item.\n",
    "- Disadvantage:\n",
    "    - search can take a long time if value of $n$ is large, i.e. inefficient if there is a large number of data items.\n",
    "\n",
    "-\tVariations:\n",
    "    -\tSearch target requires a different criteria (not just object existence).\n",
    "    -\tMust find all instances of target.\n",
    "    -\tMust find particular instance of target (first, last, etc.).\n",
    "    -\tMust find object just greater/smaller than target.\n"
   ]
  },
  {
   "cell_type": "markdown",
   "metadata": {},
   "source": [
    "## 10.1.2 Binary Search\n",
    "\n",
    "In the previous section, we looked at linear search where the data is not required to be stored in any particular order. On the other hand, if we know that the data is stored in an ascending order, we can utilize the another algorithm called the **binary search**. \n",
    "\n",
    "Workings of binary search algorithm:\n",
    "- First check the MIDDLE element in the list.\n",
    "- If it is the value we want, we can stop.\n",
    "- If it is HIGHER than the value we want, we repeat the search process with the portion of the list BEFORE the middle element.\n",
    "- If it is LOWER than the value we want, we repeat the search process with the portion of the list AFTER the middle element.\n",
    "\n",
    "The following example illustrates the case where we're looking for the value `19` in the following sorted array.\n",
    "\n",
    "<center>\n",
    "<img src=\"images/algorithm_binary_search.jpg\" height=\"400\" align=\"center\"/>\n",
    "</center>\n",
    "\n",
    "Note that  if there is an even number of values in the array, dividing by two gives a whole number and we split the array there. However, if the array consists of an odd number of values we need to find the integer part of it, as an array index must be an integer. \n",
    "\n",
    "The pseudocode for binary search function is given below. It returns the index of the searched value in the array if it exists. In the case that the value is not in the array, the function returns `-1`.\n",
    "\n",
    "### Example\n",
    "\n",
    "In this example, you have the array `[3,4,5,7,8,9,10,12,15,19,20,21,22,24,25]` and you are looking for the value `22` in the array.\n",
    "\n",
    "<center>\n",
    "<img src=\"images/algorithm_binary_search.gif\" height=\"150\" align=\"center\"/>\n",
    "</center>"
   ]
  },
  {
   "cell_type": "code",
   "execution_count": null,
   "metadata": {},
   "outputs": [],
   "source": [
    "FUNCTION BinarySearch(A: ARRAY of INTEGER, t: INTEGER) RETURNS INTEGER\n",
    "\tDECLARE start, mid, end: INTEGER\n",
    "\tstart ← 1\n",
    "\tend ← A.SIZE\n",
    "\tWHILE start <= end DO\n",
    "\t\tmid ← (start + end) DIV 2\n",
    "\t\tIF t = A[mid] THEN\n",
    "\t\t\tRETURN mid\n",
    "\t\tENDIF\n",
    "\t\tIF t < A[mid] THEN\n",
    "\t\t\tend ← mid – 1\n",
    "\t\tELSE\n",
    "\t\t\tstart ← mid + 1\n",
    "\t\tENDIF\n",
    "\tENDWHILE\n",
    "\tRETURN -1\n",
    "ENDFUNCTION"
   ]
  },
  {
   "cell_type": "markdown",
   "metadata": {},
   "source": [
    "### Exercise\n",
    "\n",
    "Implement a function `binary_search(array, val)` which searches the list `array` for a value `val` using the binary search algorithm described above.\n",
    "\n",
    "Test your function with the following list\n",
    "> `\n",
    "[39, 96, 51, 20, 42, 42, 74, 28, 66, 16, 10, 86, 6, 43, 67, 98, 32, 73, 99, 7, 80, 88, 57, 83, 1, 64, 33, 38, 38, 8, 68, 38, 42, 80, 71, 82, 25, 29, 2, 85, 2, 96, 34, 14, 9, 65, 50, 63, 99, 94, 5, 93, 84, 46, 64, 22, 59, 31, 74, 13, 93, 13, 98, 93]`\n",
    "\n",
    "with the values `9` and `2`."
   ]
  },
  {
   "cell_type": "code",
   "execution_count": 4,
   "metadata": {},
   "outputs": [
    {
     "name": "stdout",
     "output_type": "stream",
     "text": [
      "[1, 2, 2, 5, 6, 7, 8, 9, 10, 13, 13, 14, 16, 20, 22, 25, 28, 29, 31, 32, 33, 34, 38, 38, 38, 39, 42, 42, 42, 43, 46, 50, 51, 57, 59, 63, 64, 64, 65, 66, 67, 68, 71, 73, 74, 74, 80, 80, 82, 83, 84, 85, 86, 88, 93, 93, 93, 94, 96, 96, 98, 98, 99, 99]\n",
      "7\n",
      "1\n"
     ]
    }
   ],
   "source": [
    "#YOUR_CODE_HERE\n",
    "\n",
    "def binary_search(array,val):\n",
    "    start = 0\n",
    "    end = len(array)\n",
    "    while start <end :\n",
    "        mid = (start + end ) //2\n",
    "        if val == array[mid]:\n",
    "            return mid\n",
    "        if val < array[mid]:\n",
    "            end = mid - 1\n",
    "        else:\n",
    "            start = mid + 1\n",
    "    return -1\n",
    "\n",
    "array = [39, 96, 51, 20, 42, 42, 74, 28, 66, 16, 10, 86, 6, 43, 67, 98, 32, 73, 99, 7, 80, 88, 57, 83, 1, 64, 33, 38, 38, 8, 68, 38, 42, 80, 71, 82, 25, 29, 2, 85, 2, 96, 34, 14, 9, 65, 50, 63, 99, 94, 5, 93, 84, 46, 64, 22, 59, 31, 74, 13, 93, 13, 98, 93]\n",
    "sorted_array = sorted(array)\n",
    "print(sorted_array)\n",
    "print(binary_search(sorted_array,9))\n",
    "print(binary_search(sorted_array,2))"
   ]
  },
  {
   "cell_type": "code",
   "execution_count": 10,
   "metadata": {},
   "outputs": [],
   "source": [
    "def binary_search_rec(array, low, high,val):\n",
    "    if high >= low:\n",
    "        mid = (low+high)//2\n",
    "        if array[mid]==val:\n",
    "            return mid\n",
    "        elif array[mid]<val:\n",
    "            return binary_search_rec(array,mid+1,high,val)\n",
    "        elif val<array[mid]:\n",
    "            return binary_search_rec(array,low,mid-1,val)\n",
    "    else:\n",
    "        return -1"
   ]
  },
  {
   "cell_type": "markdown",
   "metadata": {},
   "source": [
    "If the array has $n$ elements to be compared to,\n",
    "\n",
    "- The best-case lookup to find an item is $1$ comparison, i.e., the item is at the middle of the array.\n",
    "- The worst-case lookup to find an item is approximately $\\log_2{n}$ comparisons."
   ]
  },
  {
   "cell_type": "code",
   "execution_count": null,
   "metadata": {},
   "outputs": [],
   "source": [
    "#YOUR_CODE_HERE"
   ]
  },
  {
   "cell_type": "markdown",
   "metadata": {},
   "source": [
    "Jupyter Notebook provides a magic function `%timeit` and `%%timeit` to time a code execution.\n",
    "* `%timeit` is used to time a single line of statement\n",
    "* `%%timeit` is used to time all codes in a cell. `%%timeit` must be placed at first line of cell. \n",
    "\n",
    "### Exercise \n",
    "Use `%timeit` to time the code executions for both the functions:\n",
    "- `linear_search`,\n",
    "- `binary_search`\n",
    "\n",
    "that you have coded in the previous exercise, using the \n",
    "> `\n",
    "[39, 96, 51, 20, 42, 42, 74, 28, 66, 16, 10, 86, 6, 43, 67, 98, 32, 73, 99, 7, 80, 88, 57, 83, 1, 64, 33, 38, 38, 8, 68, 38, 42, 80, 71, 82, 25, 29, 2, 85, 2, 96, 34, 14, 9, 65, 50, 63, 99, 94, 5, 93, 84, 46, 64, 22, 59, 31, 74, 13, 93, 13, 98, 93]`\n",
    "\n",
    "with the search value `9`."
   ]
  },
  {
   "cell_type": "code",
   "execution_count": 7,
   "metadata": {},
   "outputs": [
    {
     "name": "stdout",
     "output_type": "stream",
     "text": [
      "1.37 µs ± 25.7 ns per loop (mean ± std. dev. of 7 runs, 1000000 loops each)\n"
     ]
    }
   ],
   "source": [
    "%%timeit\n",
    "#YOUR_CODE_HERE\n",
    "array = [39, 96, 51, 20, 42, 42, 74, 28, 66, 16, 10, 86, 6, 43, 67, 98, 32, 73, 99, 7, 80, 88, 57, 83, 1, 64, 33, 38, 38, 8, 68, 38, 42, 80, 71, 82, 25, 29, 2, 85, 2, 96, 34, 14, 9, 65, 50, 63, 99, 94, 5, 93, 84, 46, 64, 22, 59, 31, 74, 13, 93, 13, 98, 93]\n",
    "linear_search(array,98)"
   ]
  },
  {
   "cell_type": "code",
   "execution_count": 8,
   "metadata": {},
   "outputs": [
    {
     "name": "stdout",
     "output_type": "stream",
     "text": [
      "4.14 µs ± 242 ns per loop (mean ± std. dev. of 7 runs, 100000 loops each)\n"
     ]
    }
   ],
   "source": [
    "%%timeit\n",
    "#YOUR_CODE_HERE\n",
    "array = [39, 96, 51, 20, 42, 42, 74, 28, 66, 16, 10, 86, 6, 43, 67, 98, 32, 73, 99, 7, 80, 88, 57, 83, 1, 64, 33, 38, 38, 8, 68, 38, 42, 80, 71, 82, 25, 29, 2, 85, 2, 96, 34, 14, 9, 65, 50, 63, 99, 94, 5, 93, 84, 46, 64, 22, 59, 31, 74, 13, 93, 13, 98, 93]\n",
    "binary_search(sorted(array),98)"
   ]
  },
  {
   "cell_type": "code",
   "execution_count": 11,
   "metadata": {},
   "outputs": [
    {
     "ename": "TypeError",
     "evalue": "binary_search_rec() missing 2 required positional arguments: 'high' and 'val'",
     "output_type": "error",
     "traceback": [
      "\u001b[1;31m---------------------------------------------------------------------------\u001b[0m",
      "\u001b[1;31mTypeError\u001b[0m                                 Traceback (most recent call last)",
      "\u001b[1;32m<ipython-input-11-4a3f6cf564ac>\u001b[0m in \u001b[0;36m<module>\u001b[1;34m\u001b[0m\n\u001b[1;32m----> 1\u001b[1;33m \u001b[0mget_ipython\u001b[0m\u001b[1;33m(\u001b[0m\u001b[1;33m)\u001b[0m\u001b[1;33m.\u001b[0m\u001b[0mrun_cell_magic\u001b[0m\u001b[1;33m(\u001b[0m\u001b[1;34m'timeit'\u001b[0m\u001b[1;33m,\u001b[0m \u001b[1;34m''\u001b[0m\u001b[1;33m,\u001b[0m \u001b[1;34m'#YOUR_CODE_HERE\\r\\narray = [39, 96, 51, 20, 42, 42, 74, 28, 66, 16, 10, 86, 6, 43, 67, 98, 32, 73, 99, 7, 80, 88, 57, 83, 1, 64, 33, 38, 38, 8, 68, 38, 42, 80, 71, 82, 25, 29, 2, 85, 2, 96, 34, 14, 9, 65, 50, 63, 99, 94, 5, 93, 84, 46, 64, 22, 59, 31, 74, 13, 93, 13, 98, 93]\\r\\nbinary_search_rec(sorted(array),98)\\n'\u001b[0m\u001b[1;33m)\u001b[0m\u001b[1;33m\u001b[0m\u001b[1;33m\u001b[0m\u001b[0m\n\u001b[0m",
      "\u001b[1;32m~\\Anaconda3\\lib\\site-packages\\IPython\\core\\interactiveshell.py\u001b[0m in \u001b[0;36mrun_cell_magic\u001b[1;34m(self, magic_name, line, cell)\u001b[0m\n\u001b[0;32m   2379\u001b[0m             \u001b[1;32mwith\u001b[0m \u001b[0mself\u001b[0m\u001b[1;33m.\u001b[0m\u001b[0mbuiltin_trap\u001b[0m\u001b[1;33m:\u001b[0m\u001b[1;33m\u001b[0m\u001b[1;33m\u001b[0m\u001b[0m\n\u001b[0;32m   2380\u001b[0m                 \u001b[0margs\u001b[0m \u001b[1;33m=\u001b[0m \u001b[1;33m(\u001b[0m\u001b[0mmagic_arg_s\u001b[0m\u001b[1;33m,\u001b[0m \u001b[0mcell\u001b[0m\u001b[1;33m)\u001b[0m\u001b[1;33m\u001b[0m\u001b[1;33m\u001b[0m\u001b[0m\n\u001b[1;32m-> 2381\u001b[1;33m                 \u001b[0mresult\u001b[0m \u001b[1;33m=\u001b[0m \u001b[0mfn\u001b[0m\u001b[1;33m(\u001b[0m\u001b[1;33m*\u001b[0m\u001b[0margs\u001b[0m\u001b[1;33m,\u001b[0m \u001b[1;33m**\u001b[0m\u001b[0mkwargs\u001b[0m\u001b[1;33m)\u001b[0m\u001b[1;33m\u001b[0m\u001b[1;33m\u001b[0m\u001b[0m\n\u001b[0m\u001b[0;32m   2382\u001b[0m             \u001b[1;32mreturn\u001b[0m \u001b[0mresult\u001b[0m\u001b[1;33m\u001b[0m\u001b[1;33m\u001b[0m\u001b[0m\n\u001b[0;32m   2383\u001b[0m \u001b[1;33m\u001b[0m\u001b[0m\n",
      "\u001b[1;32m<decorator-gen-61>\u001b[0m in \u001b[0;36mtimeit\u001b[1;34m(self, line, cell, local_ns)\u001b[0m\n",
      "\u001b[1;32m~\\Anaconda3\\lib\\site-packages\\IPython\\core\\magic.py\u001b[0m in \u001b[0;36m<lambda>\u001b[1;34m(f, *a, **k)\u001b[0m\n\u001b[0;32m    185\u001b[0m     \u001b[1;31m# but it's overkill for just that one bit of state.\u001b[0m\u001b[1;33m\u001b[0m\u001b[1;33m\u001b[0m\u001b[1;33m\u001b[0m\u001b[0m\n\u001b[0;32m    186\u001b[0m     \u001b[1;32mdef\u001b[0m \u001b[0mmagic_deco\u001b[0m\u001b[1;33m(\u001b[0m\u001b[0marg\u001b[0m\u001b[1;33m)\u001b[0m\u001b[1;33m:\u001b[0m\u001b[1;33m\u001b[0m\u001b[1;33m\u001b[0m\u001b[0m\n\u001b[1;32m--> 187\u001b[1;33m         \u001b[0mcall\u001b[0m \u001b[1;33m=\u001b[0m \u001b[1;32mlambda\u001b[0m \u001b[0mf\u001b[0m\u001b[1;33m,\u001b[0m \u001b[1;33m*\u001b[0m\u001b[0ma\u001b[0m\u001b[1;33m,\u001b[0m \u001b[1;33m**\u001b[0m\u001b[0mk\u001b[0m\u001b[1;33m:\u001b[0m \u001b[0mf\u001b[0m\u001b[1;33m(\u001b[0m\u001b[1;33m*\u001b[0m\u001b[0ma\u001b[0m\u001b[1;33m,\u001b[0m \u001b[1;33m**\u001b[0m\u001b[0mk\u001b[0m\u001b[1;33m)\u001b[0m\u001b[1;33m\u001b[0m\u001b[1;33m\u001b[0m\u001b[0m\n\u001b[0m\u001b[0;32m    188\u001b[0m \u001b[1;33m\u001b[0m\u001b[0m\n\u001b[0;32m    189\u001b[0m         \u001b[1;32mif\u001b[0m \u001b[0mcallable\u001b[0m\u001b[1;33m(\u001b[0m\u001b[0marg\u001b[0m\u001b[1;33m)\u001b[0m\u001b[1;33m:\u001b[0m\u001b[1;33m\u001b[0m\u001b[1;33m\u001b[0m\u001b[0m\n",
      "\u001b[1;32m~\\Anaconda3\\lib\\site-packages\\IPython\\core\\magics\\execution.py\u001b[0m in \u001b[0;36mtimeit\u001b[1;34m(self, line, cell, local_ns)\u001b[0m\n\u001b[0;32m   1167\u001b[0m             \u001b[1;32mfor\u001b[0m \u001b[0mindex\u001b[0m \u001b[1;32min\u001b[0m \u001b[0mrange\u001b[0m\u001b[1;33m(\u001b[0m\u001b[1;36m0\u001b[0m\u001b[1;33m,\u001b[0m \u001b[1;36m10\u001b[0m\u001b[1;33m)\u001b[0m\u001b[1;33m:\u001b[0m\u001b[1;33m\u001b[0m\u001b[1;33m\u001b[0m\u001b[0m\n\u001b[0;32m   1168\u001b[0m                 \u001b[0mnumber\u001b[0m \u001b[1;33m=\u001b[0m \u001b[1;36m10\u001b[0m \u001b[1;33m**\u001b[0m \u001b[0mindex\u001b[0m\u001b[1;33m\u001b[0m\u001b[1;33m\u001b[0m\u001b[0m\n\u001b[1;32m-> 1169\u001b[1;33m                 \u001b[0mtime_number\u001b[0m \u001b[1;33m=\u001b[0m \u001b[0mtimer\u001b[0m\u001b[1;33m.\u001b[0m\u001b[0mtimeit\u001b[0m\u001b[1;33m(\u001b[0m\u001b[0mnumber\u001b[0m\u001b[1;33m)\u001b[0m\u001b[1;33m\u001b[0m\u001b[1;33m\u001b[0m\u001b[0m\n\u001b[0m\u001b[0;32m   1170\u001b[0m                 \u001b[1;32mif\u001b[0m \u001b[0mtime_number\u001b[0m \u001b[1;33m>=\u001b[0m \u001b[1;36m0.2\u001b[0m\u001b[1;33m:\u001b[0m\u001b[1;33m\u001b[0m\u001b[1;33m\u001b[0m\u001b[0m\n\u001b[0;32m   1171\u001b[0m                     \u001b[1;32mbreak\u001b[0m\u001b[1;33m\u001b[0m\u001b[1;33m\u001b[0m\u001b[0m\n",
      "\u001b[1;32m~\\Anaconda3\\lib\\site-packages\\IPython\\core\\magics\\execution.py\u001b[0m in \u001b[0;36mtimeit\u001b[1;34m(self, number)\u001b[0m\n\u001b[0;32m    167\u001b[0m         \u001b[0mgc\u001b[0m\u001b[1;33m.\u001b[0m\u001b[0mdisable\u001b[0m\u001b[1;33m(\u001b[0m\u001b[1;33m)\u001b[0m\u001b[1;33m\u001b[0m\u001b[1;33m\u001b[0m\u001b[0m\n\u001b[0;32m    168\u001b[0m         \u001b[1;32mtry\u001b[0m\u001b[1;33m:\u001b[0m\u001b[1;33m\u001b[0m\u001b[1;33m\u001b[0m\u001b[0m\n\u001b[1;32m--> 169\u001b[1;33m             \u001b[0mtiming\u001b[0m \u001b[1;33m=\u001b[0m \u001b[0mself\u001b[0m\u001b[1;33m.\u001b[0m\u001b[0minner\u001b[0m\u001b[1;33m(\u001b[0m\u001b[0mit\u001b[0m\u001b[1;33m,\u001b[0m \u001b[0mself\u001b[0m\u001b[1;33m.\u001b[0m\u001b[0mtimer\u001b[0m\u001b[1;33m)\u001b[0m\u001b[1;33m\u001b[0m\u001b[1;33m\u001b[0m\u001b[0m\n\u001b[0m\u001b[0;32m    170\u001b[0m         \u001b[1;32mfinally\u001b[0m\u001b[1;33m:\u001b[0m\u001b[1;33m\u001b[0m\u001b[1;33m\u001b[0m\u001b[0m\n\u001b[0;32m    171\u001b[0m             \u001b[1;32mif\u001b[0m \u001b[0mgcold\u001b[0m\u001b[1;33m:\u001b[0m\u001b[1;33m\u001b[0m\u001b[1;33m\u001b[0m\u001b[0m\n",
      "\u001b[1;32m<magic-timeit>\u001b[0m in \u001b[0;36minner\u001b[1;34m(_it, _timer)\u001b[0m\n",
      "\u001b[1;31mTypeError\u001b[0m: binary_search_rec() missing 2 required positional arguments: 'high' and 'val'"
     ]
    }
   ],
   "source": [
    "%%timeit\n",
    "#YOUR_CODE_HERE\n",
    "array = [39, 96, 51, 20, 42, 42, 74, 28, 66, 16, 10, 86, 6, 43, 67, 98, 32, 73, 99, 7, 80, 88, 57, 83, 1, 64, 33, 38, 38, 8, 68, 38, 42, 80, 71, 82, 25, 29, 2, 85, 2, 96, 34, 14, 9, 65, 50, 63, 99, 94, 5, 93, 84, 46, 64, 22, 59, 31, 74, 13, 93, 13, 98, 93]\n",
    "binary_search_rec(sorted(array),0,len(98)"
   ]
  },
  {
   "cell_type": "markdown",
   "metadata": {},
   "source": [
    "# 10.2 Sorting Algorithms\n",
    "\n",
    "Sorting refers to arranging a fixed set of data in a particular order. Sorting orders could be numerical (`1`,`2`, `3`, ...), lexicographical/dictionary (`AA`, `AB`, `AC`, ...) or custom ('Mon', 'Tue', 'Wed', ...).\n",
    "\n",
    "Sorting algorithms specify ways to arrange data in particular ways to put the data in order. In this section, it is assumed that the sorted data is in ascending order."
   ]
  },
  {
   "cell_type": "markdown",
   "metadata": {},
   "source": [
    "## 10.1 Insertion Sort\n",
    "\n",
    "In insertion sort algorithm, we compare each element, termed `key` element, in turn with the elements before it in the array. We then insert the `key` element into its correct position in the array.\n",
    "\n",
    "### Example\n",
    "\n",
    "In this example, the array `[6,5,3,1,8,7,2,4]` is sorted with insertion sort.\n",
    "\n",
    "<center>\n",
    "<img src=\"images/algorithm_insertion_sort.gif\" height=\"250\" align=\"center\"/>\n",
    "</center>\n",
    "\n",
    "The pseudocode for insertion sort function for an array containing integer elements is given below:"
   ]
  },
  {
   "cell_type": "code",
   "execution_count": null,
   "metadata": {},
   "outputs": [],
   "source": [
    "FUNCTION InsertionSort(A: ARRAY of INTEGER) RETURNS ARRAY of INTEGER\n",
    "\tDECLARE j, temp: INTEGER\n",
    "    FOR i = 2 to A.SIZE\n",
    "        j ← i\n",
    "        WHILE j > 1 AND A[j] < A[j – 1] DO\n",
    "            temp ← A[j]\n",
    "            A[j] ← A[j - 1]\n",
    "            A[j - 1] ← temp\n",
    "            j ← j - 1\n",
    "        ENDWHILE\n",
    "    ENDFOR\n",
    "    RETURN A\n",
    "ENDFUNCTION"
   ]
  },
  {
   "cell_type": "markdown",
   "metadata": {},
   "source": [
    "### Exercise\n",
    "\n",
    "Implement a function `insertion_sort(array)` which sorts the list `array` in the ascending order according to the insertion algorithm given above.\n",
    "\n",
    "Test your function with the following list\n",
    "> `\n",
    "[39, 96, 51, 20, 42, 42, 74, 28, 66, 16, 10, 86, 6, 43, 67, 98, 32, 73, 99, 7, 80, 88, 57, 83, 1, 64, 33, 38, 38, 8, 68, 38, 42, 80, 71, 82, 25, 29, 2, 85, 2, 96, 34, 14, 9, 65, 50, 63, 99, 94, 5, 93, 84, 46, 64, 22, 59, 31, 74, 13, 93, 13, 98, 93]`."
   ]
  },
  {
   "cell_type": "code",
   "execution_count": 5,
   "metadata": {},
   "outputs": [
    {
     "name": "stdout",
     "output_type": "stream",
     "text": [
      "[1, 2, 3, 4, 5, 6, 7, 8]\n"
     ]
    }
   ],
   "source": [
    "def insertion_sort(array):\n",
    "    for i in range(1, len(array)):  \n",
    "        j = i\n",
    "        while j > 0 and array[j] < array[j-1]: \n",
    "            array[j], array[j-1] = array[j-1], array[j] \n",
    "            j -= 1 \n",
    "    return array\n",
    "\n",
    "arr = [6,5,3,1,8,7,2,4]\n",
    "print(insertion_sort(arr))\n"
   ]
  },
  {
   "cell_type": "code",
   "execution_count": 25,
   "metadata": {},
   "outputs": [
    {
     "name": "stdout",
     "output_type": "stream",
     "text": [
      "[6, 5, 3, 1, 8, 7, 2, 4]\n",
      "key is at position 1\n",
      "[5, 6, 3, 1, 8, 7, 2, 4]\n",
      "---------------\n",
      "[5, 6, 3, 1, 8, 7, 2, 4]\n",
      "key is at position 2\n",
      "[5, 3, 6, 1, 8, 7, 2, 4]\n",
      "[3, 5, 6, 1, 8, 7, 2, 4]\n",
      "---------------\n",
      "[3, 5, 6, 1, 8, 7, 2, 4]\n",
      "key is at position 3\n",
      "[3, 5, 1, 6, 8, 7, 2, 4]\n",
      "[3, 1, 5, 6, 8, 7, 2, 4]\n",
      "[1, 3, 5, 6, 8, 7, 2, 4]\n",
      "---------------\n",
      "[1, 3, 5, 6, 8, 7, 2, 4]\n",
      "key is at position 4\n",
      "---------------\n",
      "[1, 3, 5, 6, 8, 7, 2, 4]\n",
      "key is at position 5\n",
      "[1, 3, 5, 6, 7, 8, 2, 4]\n",
      "---------------\n",
      "[1, 3, 5, 6, 7, 8, 2, 4]\n",
      "key is at position 6\n",
      "[1, 3, 5, 6, 7, 2, 8, 4]\n",
      "[1, 3, 5, 6, 2, 7, 8, 4]\n",
      "[1, 3, 5, 2, 6, 7, 8, 4]\n",
      "[1, 3, 2, 5, 6, 7, 8, 4]\n",
      "[1, 2, 3, 5, 6, 7, 8, 4]\n",
      "---------------\n",
      "[1, 2, 3, 5, 6, 7, 8, 4]\n",
      "key is at position 7\n",
      "[1, 2, 3, 5, 6, 7, 4, 8]\n",
      "[1, 2, 3, 5, 6, 4, 7, 8]\n",
      "[1, 2, 3, 5, 4, 6, 7, 8]\n",
      "[1, 2, 3, 4, 5, 6, 7, 8]\n",
      "---------------\n",
      "[1, 2, 3, 4, 5, 6, 7, 8]\n"
     ]
    }
   ],
   "source": [
    "arr = [6,5,3,1,8,7,2,4]\n",
    "print(insertion_sort_ori(arr))"
   ]
  },
  {
   "cell_type": "markdown",
   "metadata": {},
   "source": [
    "Note:\n",
    "- The outer for-loop in Insertion Sort function always iterates $n-1$ times.\n",
    "- The inner while-loop will make $1 + 2 + 3 ... + (n-1)=\\frac{n(n-1)}{2}$ comparisons in worst case."
   ]
  },
  {
   "cell_type": "markdown",
   "metadata": {},
   "source": [
    "# 10.2 Bubble Sort\n",
    "\n",
    "The next sorting algorithm iterates over an array multiple times. \n",
    "* In each iteration, it takes 2 consecutive elements and compare them. \n",
    "* It swaps the smaller value to the left and larger value to the right.\n",
    "* It repeats until the larger elements \"bubble up\" to the end of the list, and the smaller elements moves to the \"bottom\". This is the reason for the naming of the algorithm.\n",
    "* The right-hand side of the array are sorted. \n",
    "\n",
    "### Example\n",
    "\n",
    "In this example, the array `[6,5,3,1,8,7,2,4]` is sorted with bubble sort.\n",
    "\n",
    "<center>\n",
    "<img src=\"images/algorithm_bubble_sort.gif\" height=\"250\" align=\"center\"/>\n",
    "</center>\n",
    "\n",
    "We see that\n",
    "* For 1st iteration, we need to make $n-1$ comparisons. It will bring the largest value to the extreme right.\n",
    "* For 2nd iteration, we need to make $n-2$ comparisons. It will bring 2nd largest value to the 2nd extreme right.\n",
    "* And so on...\n",
    "\n",
    "Consequently, we need a nested loops to make multiple iterations. \n",
    "\n",
    "The pseudocode for bubble sort function for an array containing integer elements is given below:"
   ]
  },
  {
   "cell_type": "code",
   "execution_count": null,
   "metadata": {},
   "outputs": [],
   "source": [
    "FUNCTION BubbleSort(A: ARRAY of INTEGER) RETURNS ARRAY of INTEGER\n",
    "    DECLARE swap: BOOLEAN\n",
    "    DECLARE temp: INTEGER\n",
    "    FOR i = 1 to (A.SIZE – 1)\n",
    "        swap ← FALSE\n",
    "        FOR j = 1 to (A.SIZE – i)\n",
    "            IF A[j] > A[j + 1] THEN\n",
    "                temp ← A[j]\n",
    "                A[j] ← A[j + 1]\n",
    "                A[j + 1] ← temp\n",
    "                swap ← TRUE\n",
    "            ENDIF\n",
    "        ENDFOR\n",
    "        IF NOT swap THEN\n",
    "            BREAK\n",
    "        ENDIF\n",
    "    ENDFOR\n",
    "    RETURN A\n",
    "ENDFUNCTION\n"
   ]
  },
  {
   "cell_type": "code",
   "execution_count": 28,
   "metadata": {},
   "outputs": [
    {
     "data": {
      "text/plain": [
       "[1, 2, 3, 4, 5, 6, 7, 8]"
      ]
     },
     "execution_count": 28,
     "metadata": {},
     "output_type": "execute_result"
    }
   ],
   "source": [
    "a = [6,5,3,1,8,7,2,4]\n",
    "def BubbleSort(a):\n",
    "    for i in range(0,len(a)-1):\n",
    "        swap = False\n",
    "        \n",
    "        for j in range(0,len(a)-i-1):\n",
    "            \n",
    "            if a[j] > a[j+1]:\n",
    "                temp = a[j]\n",
    "                a[j] = a[j+1]\n",
    "                a[j+1] = temp\n",
    "                swap = True\n",
    "\n",
    "        if swap == False:\n",
    "            break\n",
    "\n",
    "    return a    \n",
    "\n",
    "BubbleSort(a)"
   ]
  },
  {
   "cell_type": "markdown",
   "metadata": {},
   "source": [
    "### Exercise\n",
    "\n",
    "Implement a function `bubble_sort(array)` which sorts the list `array` in the ascending order according to the bubble algorithm given above.\n",
    "\n",
    "Test your function with the following list\n",
    "> `\n",
    "[39, 96, 51, 20, 42, 42, 74, 28, 66, 16, 10, 86, 6, 43, 67, 98, 32, 73, 99, 7, 80, 88, 57, 83, 1, 64, 33, 38, 38, 8, 68, 38, 42, 80, 71, 82, 25, 29, 2, 85, 2, 96, 34, 14, 9, 65, 50, 63, 99, 94, 5, 93, 84, 46, 64, 22, 59, 31, 74, 13, 93, 13, 98, 93]`."
   ]
  },
  {
   "cell_type": "code",
   "execution_count": null,
   "metadata": {},
   "outputs": [],
   "source": [
    "\n",
    "def bubble_sort(a):\n",
    "    for i in range(0,len(a)-1):\n",
    "        swap = False\n",
    "        \n",
    "        for j in range(0,len(a)-i-1):\n",
    "            \n",
    "            if a[j] > a[j+1]:\n",
    "                temp = a[j]\n",
    "                a[j] = a[j+1]\n",
    "                a[j+1] = temp\n",
    "                swap = True\n",
    "\n",
    "        if swap == False:\n",
    "            break\n",
    "\n",
    "    return a    \n",
    "\n",
    "bubble_sort(a)"
   ]
  },
  {
   "cell_type": "markdown",
   "metadata": {},
   "source": [
    "Note:\n",
    "- The amount of comparisons in Bubble Sort algorithm is $(n - 1) + (n - 2) + ... + 1=\\frac{n(n-1)}{2}$ comparisons,\n",
    "- Best case is when the array is already sorted and bubble sort will terminate after the first iterations. \n",
    "- Bubble sort is also efficient when one random element needs to be sorted into a sorted array, provided that new element is placed at the beginning and not at the end. \n",
    "- The absolute worst case for bubble sort is when the smallest element of the array is the last element in the end of the array. Because in each iteration only the largest unsorted element gets put in its proper location, when the smallest element is at the end, it will have to be swapped each time through the array, and it wont get to the front of the list until all $n$ iterations have occurred."
   ]
  },
  {
   "cell_type": "markdown",
   "metadata": {},
   "source": [
    "# 10.3 Quicksort\n",
    "\n",
    "Quicksort is a sorting technique based on divide and conquer technique. Quicksort first selects an element, termed the `pivot`, and partitions the array around the pivot, putting every smaller element into a low array and every larger element into a high array. \n",
    "\n",
    "* The `pivot` element can selected randomly, but one way to select the pivot is to use the element in the middle of the array as the pivot\n",
    "* The first pass partitions data into 3 sub-arrays, `lesser` (less than pivot), `equal` (equal to pivot) and `greater` (greater than pivot).\n",
    "* The process repeats for `lesser` array and `greater` array.\n",
    "\n",
    "<center>\n",
    "<img src=\"images/algorithm_quick_sort.gif\" height=\"250\" align=\"center\"/>\n",
    "</center>\n",
    "\n",
    "The pseudocode for quicksort function for an array containing $N$ elements is given below:"
   ]
  },
  {
   "cell_type": "code",
   "execution_count": null,
   "metadata": {},
   "outputs": [],
   "source": [
    "PROCEDURE QuickSort(Arr : ARRAY OF INTEGERS):\n",
    "    IF Arr.Size = 0:\n",
    "        RETURN []\n",
    "    ENDIF\n",
    "\n",
    "    Mid ← (1+Arr.Size) //2 \n",
    "    \n",
    "    Pivot ← Arr[Mid]\n",
    "\n",
    "    DECLARE Equal : Integer\n",
    "    DECLARE Lesser : Integer\n",
    "    DECLARE More : Integer\n",
    "\n",
    "    Equal = 0\n",
    "    Lesser = 0\n",
    "    More = 0\n",
    "\n",
    "    For i = 1 to Arr.Size\n",
    "        IF Arr[i] = Pivot THEN\n",
    "            Equal = Equal + 1\n",
    "        ENDIF\n",
    "        IF Arr[i] < Pivot THEN\n",
    "            Lesser = Lesser + 1\n",
    "        ENDIF\n",
    "        IF Arr[i] > Pivot THEN\n",
    "            More = More + 1\n",
    "        ENDIF    \n",
    "    ENDFOR\n",
    "\n",
    "    DECLARE EqualArray[1:Equal] : ARRAY OF INTEGER\n",
    "    DECLARE LesserArray[1:Lesser] : ARRAY OF INTEGER\n",
    "    DECLARE MoreArray[1:More] : ARRAY OF INTEGER    \n",
    "\n",
    "    DECLARE EqualIndex : Integer\n",
    "    DECLARE LesserIndex : Integer\n",
    "    DECLARE MoreIndex : Integer\n",
    "\n",
    "    EqualIndex = 1\n",
    "    LesserIndex = 1\n",
    "    MoreIndex = 1\n",
    "\n",
    "    For i = 1 to Arr.Size\n",
    "\n",
    "        IF Arr[i] = Pivot THEN\n",
    "            EqualArray[EqualIndex] ← Arr[i]\n",
    "            EqualIndex ← EqualIndex + 1            \n",
    "        ENDIF\n",
    "        IF Arr[i] < Pivot THEN\n",
    "            LesserArray[LesserIndex] ← Arr[i]\n",
    "            LesserIndex ← LesserIndex + 1            \n",
    "        ENDIF\n",
    "        IF Arr[i] > Pivot THEN\n",
    "            MoreArray[MoreIndex] ← Arr[i]\n",
    "            MoreIndex ← MoreIndex + 1            \n",
    "        ENDIF\n",
    "    ENDFOR\n",
    "\n",
    "    RETURN QuickSort(LesserArray) + EqualArray + QuickSort(MoreArray) //Assuming `+` is array concatenation\n",
    "\n",
    "END PROCEDURE"
   ]
  },
  {
   "cell_type": "code",
   "execution_count": null,
   "metadata": {},
   "outputs": [],
   "source": [
    "TYPE List\n",
    "    Buffer: ARRAY[1:N] OF OBJECT\n",
    "    Size: N\n",
    "ENDTYPE\n",
    "\n",
    "CREATE_LIST(N) RETURN List\n",
    "\n",
    "APPEND(List, d: OBJECT) RETURNS List // appends d to end of List\n",
    "\n",
    "SUB_LIST(LIST, start:INTEGER, end:INTEGER) RETURNS List //return sub-list from start to end\n",
    "\n",
    "CONCATENATE(A:List, B:List) RETURNS List //concatenates A and B into a new List\n",
    "\n",
    "LEN(L) RETURNS INTEGER //size of List\n",
    "\n",
    "FUNCTION QS(L: List )\n",
    "DECLARE\n",
    "    Lesser : List\n",
    "    Greater : List\n",
    "    Pivot: OBJECT\n",
    "    \n",
    "    Lesser ← CREATE_LIST(0)\n",
    "    Greater ← CREATE_LIST(0)\n",
    "\n",
    "    Pivot ← L[1]\n",
    "\n",
    "    IF L.Size = 0 THEN\n",
    "        RETURN CREATE_LIST(0)\n",
    "    ENDIF\n",
    "    \n",
    "    FOR i = 2 TO LEN(L)\n",
    "        IF L[i] <= Pivot THEN\n",
    "            APPEND(Lesser, L[i])\n",
    "        ELSE:\n",
    "            APPEND(Greater, L[i])\n",
    "        ENDIF\n",
    "    ENDFOR\n",
    "    RETURN CONCATENATE( APPEND(QS(Lesser),Pivot),QS(Greater))\n",
    "ENDFUNCTION"
   ]
  },
  {
   "cell_type": "code",
   "execution_count": 2,
   "metadata": {},
   "outputs": [
    {
     "data": {
      "text/plain": [
       "[2, 3, 4, 5, 6, 9]"
      ]
     },
     "execution_count": 2,
     "metadata": {},
     "output_type": "execute_result"
    }
   ],
   "source": [
    "def quicksort(arr):\n",
    "    if arr==[]:\n",
    "        return []\n",
    "\n",
    "    pivot = arr[len(arr)//2]\n",
    "    \n",
    "    equal=[x for x in arr if x == pivot ]   \n",
    "    lesser=[x for x in arr if x < pivot ]\n",
    "    more=[x for x in arr if x > pivot ]\n",
    "\n",
    "    return quicksort(lesser)+equal+quicksort(more)\n",
    "\n",
    "arr = [6,3,4,2,5,9]\n",
    "quicksort(arr)"
   ]
  },
  {
   "cell_type": "markdown",
   "metadata": {},
   "source": [
    "### Exercise\n",
    "\n",
    "Implement a function `quicksort(array)` which sorts the list `array` in the ascending order according to the quicksort algorithm given above.\n",
    "\n",
    "Test your function with the following list\n",
    "> `\n",
    "[39, 96, 51, 20, 42, 42, 74, 28, 66, 16, 10, 86, 6, 43, 67, 98, 32, 73, 99, 7, 80, 88, 57, 83, 1, 64, 33, 38, 38, 8, 68, 38, 42, 80, 71, 82, 25, 29, 2, 85, 2, 96, 34, 14, 9, 65, 50, 63, 99, 94, 5, 93, 84, 46, 64, 22, 59, 31, 74, 13, 93, 13, 98, 93]`."
   ]
  },
  {
   "cell_type": "code",
   "execution_count": null,
   "metadata": {},
   "outputs": [],
   "source": [
    "#YOUR_CODE_HERE"
   ]
  },
  {
   "cell_type": "markdown",
   "metadata": {},
   "source": [
    "Note: \n",
    "- The worst case scenario is when the smallest or largest element is always selected as the pivot. This would create partitions of size $n-1$, causing recursive calls $n-1$ times. And such, if the first element of partition is always chosen to be the first element and the array is already sorted. \n",
    "- With a good pivot, the input list is partitioned in linear time, $O(n)$, and this process repeats recursively an average of $\\log_2{n}$ times. \n",
    "- This leads to a final complexity of $O(n \\log_2n)$.\n",
    "- The above implementation of the quicksort algorithm does not sort “in place”, and has a high space complexity. In order to overcome this, you need to change the algorithm slightly – i.e., use a variant that does not create new linked lists to store elements greater/less than the pivot. The in-place version of the pseudocode is given below."
   ]
  },
  {
   "cell_type": "code",
   "execution_count": null,
   "metadata": {},
   "outputs": [],
   "source": [
    "PROCEDURE QuickSort(MyList, LB, UB)\n",
    "    IF LB <> UB THEN\n",
    "    #there is more than one element in MyList\n",
    "        LeftP ← LB #Left pointer\n",
    "        RightP ← UB #Right pointer\n",
    "        REPEAT\n",
    "            WHILE LeftP <> RightP AND MyList[LeftP] < MyList[RightP] DO\n",
    "            #move right pointer left\n",
    "                RightP ← RightP — l\n",
    "            ENDWHILE\n",
    "            IF LeftP <> RightP THEN \n",
    "                swap MyList[LeftP] and MyList[J]\n",
    "            WHILE LeftP <> RightP AND MyList[LeftP] < MyList[RightP] DO\n",
    "            #move left pointer right\n",
    "                LeftP ← LeftP + 1\n",
    "            ENDWHILE\n",
    "            IF LeftP <> RightP THEN \n",
    "                swap MyList[LeftP] and MyList[RightP]\n",
    "        UNTIL LeftP = RightP\n",
    "        #value now in correct position so sort left sub-list\n",
    "        QuickSort(MyList, LB, LeftP — 1)\n",
    "        #now sort right sub-list\n",
    "        QuickSort(MyList, LeftP + l, UB)\n",
    "    ENDIF\n",
    "END PROCEDURE"
   ]
  },
  {
   "cell_type": "markdown",
   "metadata": {},
   "source": [
    "# 10.4 Merge Sort\n",
    "\n",
    "Similar to Quicksort, Merge sort is a sorting technique based on divide and conquer technique. It first divides the array into equal halves and then combines them in a sorted manner.\n",
    "- if it is only one element in the list, it is already sorted. Return the list.\n",
    "- divide the list recursively into two halves until it can no more be divided.\n",
    "- merge the smaller lists into new list in sorted order.\n",
    "\n",
    "<center>\n",
    "<img src=\"images/algorithm_merge_sort.gif\" height=\"250\" align=\"center\"/>\n",
    "</center>\n",
    "\n",
    "The important subroutine `merge` : Given two sorted array, $A$ and $B$ of size $n_1$ and $n_2$, `merge(A,B)` returns a sorted array of size $n_1+n_2$ whose elements come from $A$ and $B$.\n",
    "\n",
    "The pseudocode for merge sort function for an array containing $N$ elements is given below:"
   ]
  },
  {
   "cell_type": "code",
   "execution_count": null,
   "metadata": {},
   "outputs": [],
   "source": [
    "FUNCTION Merge(A:ARRAY of INTEGER, B: ARRAY of Integer) RETURNS ARRAY of INTEGER\n",
    "    DECLARE C: ARRAY [1: A.SIZE + B.SIZE] of INTEGER\n",
    "    DECLARE J: INTEGER\n",
    "\n",
    "    J = 1\n",
    "\n",
    "    WHILE ( A.SIZE >= 1 AND B.SIZE >= 1)\n",
    "        IF ( A[1] > B[1] ) \n",
    "            THEN\n",
    "            C[J] ← B[1]\n",
    "            J ← J + 1\n",
    "            B ← B [2 : B.SIZE]\n",
    "        ELSE\n",
    "            C[J] ← A[1]\n",
    "            J ← J + 1\n",
    "            A ← A [2 : A.SIZE]\n",
    "        ENDIF\n",
    "    ENDWHILE\n",
    "\n",
    "    WHILE ( A.SIZE >= 1 )\n",
    "        C[J] ← A[1]\n",
    "        J ← J + 1\n",
    "        A ← A [2 : A.SIZE]\n",
    "    ENDWHILE\n",
    "\n",
    "    WHILE ( B.SIZE >= 1 )\n",
    "        C[J] ← B[1]\n",
    "        J ← J + 1\n",
    "        B ← B [2 : B.SIZE]\n",
    "    ENDWHILE\n",
    "\n",
    "    RETURN C\n",
    "    \n",
    "ENDFUNCTION\n",
    "\n",
    "\n",
    "FUNCTION MergeSort(A: ARRAY of INTEGER) RETURNS ARRAY of INTEGER\n",
    "    // Base case. A list of zero or one elements is sorted, by definition.\n",
    "    IF A.SIZE <= 1 \n",
    "        THEN\n",
    "        RETURN A\n",
    "    ENDIF\n",
    "\n",
    "    // Recursive case. First, divide the list into roughly equal-sized subarrays\n",
    "    // consisting of the first half and second half of the array A.\n",
    "    DECLARE Left: ARRAY [1: A.SIZE/2] of INTEGER\n",
    "    DECLARE Right: ARRAY [1: A.SIZE/2] of INTEGER\n",
    "\n",
    "    FOR i = 1 to A.SIZE\n",
    "        IF i <= A.SIZE/2\n",
    "            THEN\n",
    "            Left[i] ← A[i]\n",
    "        ELSE\n",
    "            Right[i - A.SIZE/2] ← A[i]\n",
    "\n",
    "    // Recursively sort both subarray.\n",
    "    Left ← MergeSort(Left)\n",
    "    Right ← MergeSort(Right)\n",
    "\n",
    "    // Then merge the now-sorted sublists.\n",
    "    RETURN Merge(Left, Right)\n",
    "\n",
    "ENDFUNCTION"
   ]
  },
  {
   "cell_type": "markdown",
   "metadata": {},
   "source": [
    "Note: \n",
    "- In sorting $n$ objects, merge sort has an average and worst-case performance of $O(n \\log n)$. If the running time of merge sort for a list of length $n$ is $T(n)$, then the recurrence relation $T(n) = 2T(\\frac{n}{2}) + n$ follows from the definition of the algorithm (apply the algorithm to two lists of half the size of the original list, and add the $n$ steps taken to merge the resulting two lists). The closed form follows from the master theorem for divide-and-conquer recurrences.\n",
    "\n",
    "https://en.wikipedia.org/wiki/Master_theorem_(analysis_of_algorithms)"
   ]
  },
  {
   "cell_type": "markdown",
   "metadata": {},
   "source": [
    "### Exercise\n",
    "\n",
    "Implement a function `merge_sort(array)` which sorts the list `array` in the ascending order according to the merge sort algorithm given above.\n",
    "\n",
    "Test your function with the following list\n",
    "> `\n",
    "[39, 96, 51, 20, 42, 42, 74, 28, 66, 16, 10, 86, 6, 43, 67, 98, 32, 73, 99, 7, 80, 88, 57, 83, 1, 64, 33, 38, 38, 8, 68, 38, 42, 80, 71, 82, 25, 29, 2, 85, 2, 96, 34, 14, 9, 65, 50, 63, 99, 94, 5, 93, 84, 46, 64, 22, 59, 31, 74, 13, 93, 13, 98, 93]`."
   ]
  },
  {
   "cell_type": "code",
   "execution_count": null,
   "metadata": {},
   "outputs": [],
   "source": [
    "#YOUR_CODE_HERE"
   ]
  }
 ],
 "metadata": {
  "kernelspec": {
   "display_name": "venv",
   "language": "python",
   "name": "python3"
  },
  "language_info": {
   "codemirror_mode": {
    "name": "ipython",
    "version": 3
   },
   "file_extension": ".py",
   "mimetype": "text/x-python",
   "name": "python",
   "nbconvert_exporter": "python",
   "pygments_lexer": "ipython3",
   "version": "3.13.5"
  },
  "orig_nbformat": 2
 },
 "nbformat": 4,
 "nbformat_minor": 2
}
